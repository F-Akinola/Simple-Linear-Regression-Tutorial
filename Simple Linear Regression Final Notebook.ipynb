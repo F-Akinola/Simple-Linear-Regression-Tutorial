{
 "cells": [
  {
   "cell_type": "markdown",
   "id": "dee89647",
   "metadata": {},
   "source": [
    "# Simple Linear Regression Modelling"
   ]
  },
  {
   "cell_type": "markdown",
   "id": "39eeb46f",
   "metadata": {},
   "source": [
    "Linear regression is a statistical technique that aims to model the relationship between a dependent variable (in this case, property prices) and one or more independent variables (such as location, square footage, number of bedrooms, etc.). The goal is to develop a linear equation that can predict the dependent variable based on the given independent variables. By analyzing the dataset, we can identify the most significant predictors of property prices and estimate their respective impact.\n",
    "\n",
    "In the context of real estate analysis, the dependent variable could be the housing price, while the independent variables may include factors such as location, size, number of bedrooms, proximity to amenities, and more. By fitting a line to the data points, linear regression helps us understand how changes in the independent variables affect the dependent variable."
   ]
  },
  {
   "cell_type": "markdown",
   "id": "ccc1cb50",
   "metadata": {},
   "source": [
    "# About the data"
   ]
  },
  {
   "cell_type": "raw",
   "id": "3f76c6dd",
   "metadata": {},
   "source": [
    "Title: Boston Housing Data\n",
    "\n",
    "Sources:\n",
    "(a) Origin: This dataset was taken from the StatLib library which is maintained at Carnegie Mellon University.\n",
    "(b) Creator: Harrison, D. and Rubinfeld, D.L. 'Hedonic prices and the demand for clean air', J. Environ. Economics & Management,\n",
    "vol.5, 81-102, 1978.\n",
    "(c) Date: July 7, 1993\n",
    "\n",
    "\n",
    "Number of Instances: 511\n",
    "Number of Attributes: 13 continuous attributes (including \"class\" attribute \"MEDV\"), 1 binary-valued attribute.\n",
    "\n",
    "Attribute Information:\n",
    "1.CRIM:per capita crime rate by town.\n",
    "2.ZN:proportion of residential land zoned for lots over 25,000 sq.ft.\n",
    "3.INDUS:proportion of non-retail business acres per town\n",
    "4.CHAS:Charles River dummy variable (= 1 if tract bounds river; 0 otherwise)\n",
    "5.NOX:nitric oxides concentration (parts per 10 million)\n",
    "6.RM:average number of rooms per dwelling\n",
    "7.AGE:proportion of owner-occupied units built prior to 1940\n",
    "8.DIS:weighted distances to five Boston employment centres\n",
    "9.RAD:index of accessibility to radial highways\n",
    "10.TAX:full-value property-tax rate per $10,000.\n",
    "11.PTRATIO:pupil-teacher ratio by town\n",
    "12.B:1000(Bk - 0.63)^2 where Bk is the proportion of blacks by town\n",
    "13.LSTAT:lower status of the population\n",
    "14.MEDV:Median value of owner-occupied homes in $1000's\n"
   ]
  },
  {
   "cell_type": "markdown",
   "id": "11afae0f",
   "metadata": {},
   "source": [
    "# Data Preprocessing"
   ]
  },
  {
   "cell_type": "markdown",
   "id": "63cbd5e3",
   "metadata": {},
   "source": [
    "Before delving into the regression analysis, it is crucial to preprocess the data. This involves handling missing values, removing outliers, normalizing variables, and encoding categorical variables. By ensuring the data is clean and standardized, we can obtain reliable results from our analysis.\n",
    "\n",
    "For our analysis, we selected a comprehensive real estate dataset containing information on various attributes of properties, such as location, size, number of rooms, age, and price. Before proceeding with regression analysis, it is crucial to preprocess the dataset by handling missing values, removing outliers, and normalizing variables to ensure accurate results."
   ]
  },
  {
   "cell_type": "code",
   "execution_count": 2,
   "id": "1280598d",
   "metadata": {},
   "outputs": [],
   "source": [
    "#import necessary libraries\n",
    "import pandas as pd\n",
    "\n",
    "data=pd.read_csv(\"data.csv\")\n"
   ]
  },
  {
   "cell_type": "markdown",
   "id": "08c33d7c",
   "metadata": {},
   "source": [
    "We can get a general impression of what our dataset looks like by looking at the first few rows of the data."
   ]
  },
  {
   "cell_type": "code",
   "execution_count": 3,
   "id": "96dbc7f1",
   "metadata": {},
   "outputs": [
    {
     "data": {
      "text/html": [
       "<div>\n",
       "<style scoped>\n",
       "    .dataframe tbody tr th:only-of-type {\n",
       "        vertical-align: middle;\n",
       "    }\n",
       "\n",
       "    .dataframe tbody tr th {\n",
       "        vertical-align: top;\n",
       "    }\n",
       "\n",
       "    .dataframe thead th {\n",
       "        text-align: right;\n",
       "    }\n",
       "</style>\n",
       "<table border=\"1\" class=\"dataframe\">\n",
       "  <thead>\n",
       "    <tr style=\"text-align: right;\">\n",
       "      <th></th>\n",
       "      <th>CRIM</th>\n",
       "      <th>ZN</th>\n",
       "      <th>INDUS</th>\n",
       "      <th>CHAS</th>\n",
       "      <th>NOX</th>\n",
       "      <th>RM</th>\n",
       "      <th>AGE</th>\n",
       "      <th>DIS</th>\n",
       "      <th>RAD</th>\n",
       "      <th>TAX</th>\n",
       "      <th>PTRATIO</th>\n",
       "      <th>B</th>\n",
       "      <th>LSTAT</th>\n",
       "      <th>MEDV</th>\n",
       "    </tr>\n",
       "  </thead>\n",
       "  <tbody>\n",
       "    <tr>\n",
       "      <th>0</th>\n",
       "      <td>0.00632</td>\n",
       "      <td>18.0</td>\n",
       "      <td>2.31</td>\n",
       "      <td>0</td>\n",
       "      <td>0.538</td>\n",
       "      <td>6.575</td>\n",
       "      <td>65.2</td>\n",
       "      <td>4.0900</td>\n",
       "      <td>1</td>\n",
       "      <td>296</td>\n",
       "      <td>15.3</td>\n",
       "      <td>396.90</td>\n",
       "      <td>4.98</td>\n",
       "      <td>24.0</td>\n",
       "    </tr>\n",
       "    <tr>\n",
       "      <th>1</th>\n",
       "      <td>0.02731</td>\n",
       "      <td>0.0</td>\n",
       "      <td>7.07</td>\n",
       "      <td>0</td>\n",
       "      <td>0.469</td>\n",
       "      <td>6.421</td>\n",
       "      <td>78.9</td>\n",
       "      <td>4.9671</td>\n",
       "      <td>2</td>\n",
       "      <td>242</td>\n",
       "      <td>17.8</td>\n",
       "      <td>396.90</td>\n",
       "      <td>9.14</td>\n",
       "      <td>21.6</td>\n",
       "    </tr>\n",
       "    <tr>\n",
       "      <th>2</th>\n",
       "      <td>0.02729</td>\n",
       "      <td>0.0</td>\n",
       "      <td>7.07</td>\n",
       "      <td>0</td>\n",
       "      <td>0.469</td>\n",
       "      <td>7.185</td>\n",
       "      <td>61.1</td>\n",
       "      <td>4.9671</td>\n",
       "      <td>2</td>\n",
       "      <td>242</td>\n",
       "      <td>17.8</td>\n",
       "      <td>392.83</td>\n",
       "      <td>4.03</td>\n",
       "      <td>34.7</td>\n",
       "    </tr>\n",
       "    <tr>\n",
       "      <th>3</th>\n",
       "      <td>0.03237</td>\n",
       "      <td>0.0</td>\n",
       "      <td>2.18</td>\n",
       "      <td>0</td>\n",
       "      <td>0.458</td>\n",
       "      <td>6.998</td>\n",
       "      <td>45.8</td>\n",
       "      <td>6.0622</td>\n",
       "      <td>3</td>\n",
       "      <td>222</td>\n",
       "      <td>18.7</td>\n",
       "      <td>394.63</td>\n",
       "      <td>2.94</td>\n",
       "      <td>33.4</td>\n",
       "    </tr>\n",
       "    <tr>\n",
       "      <th>4</th>\n",
       "      <td>0.06905</td>\n",
       "      <td>0.0</td>\n",
       "      <td>2.18</td>\n",
       "      <td>0</td>\n",
       "      <td>0.458</td>\n",
       "      <td>7.147</td>\n",
       "      <td>54.2</td>\n",
       "      <td>6.0622</td>\n",
       "      <td>3</td>\n",
       "      <td>222</td>\n",
       "      <td>18.7</td>\n",
       "      <td>396.90</td>\n",
       "      <td>5.33</td>\n",
       "      <td>36.2</td>\n",
       "    </tr>\n",
       "  </tbody>\n",
       "</table>\n",
       "</div>"
      ],
      "text/plain": [
       "      CRIM    ZN  INDUS  CHAS    NOX     RM   AGE     DIS  RAD  TAX  PTRATIO  \\\n",
       "0  0.00632  18.0   2.31     0  0.538  6.575  65.2  4.0900    1  296     15.3   \n",
       "1  0.02731   0.0   7.07     0  0.469  6.421  78.9  4.9671    2  242     17.8   \n",
       "2  0.02729   0.0   7.07     0  0.469  7.185  61.1  4.9671    2  242     17.8   \n",
       "3  0.03237   0.0   2.18     0  0.458  6.998  45.8  6.0622    3  222     18.7   \n",
       "4  0.06905   0.0   2.18     0  0.458  7.147  54.2  6.0622    3  222     18.7   \n",
       "\n",
       "        B  LSTAT  MEDV  \n",
       "0  396.90   4.98  24.0  \n",
       "1  396.90   9.14  21.6  \n",
       "2  392.83   4.03  34.7  \n",
       "3  394.63   2.94  33.4  \n",
       "4  396.90   5.33  36.2  "
      ]
     },
     "execution_count": 3,
     "metadata": {},
     "output_type": "execute_result"
    }
   ],
   "source": [
    "#display the first five rows of the dataset\n",
    "data.head(5)"
   ]
  },
  {
   "cell_type": "markdown",
   "id": "4853f86b",
   "metadata": {},
   "source": [
    "To check the toal number of rows and columns, we can use the shape method."
   ]
  },
  {
   "cell_type": "code",
   "execution_count": 4,
   "id": "f5c7489d",
   "metadata": {},
   "outputs": [
    {
     "data": {
      "text/plain": [
       "(511, 14)"
      ]
     },
     "execution_count": 4,
     "metadata": {},
     "output_type": "execute_result"
    }
   ],
   "source": [
    "data.shape"
   ]
  },
  {
   "cell_type": "markdown",
   "id": "acb40b21",
   "metadata": {},
   "source": [
    "To get some statistical information for each column of the dataset, we use the describe method. The information provided by the describe method includes count, mean, standard deviation, the minimum and maximum values, the 1st and 3rd quartiles (25% & 30% respectively) as well as the median value (50%) of the data in each column."
   ]
  },
  {
   "cell_type": "code",
   "execution_count": null,
   "id": "2bebc1fa",
   "metadata": {},
   "outputs": [],
   "source": []
  },
  {
   "cell_type": "code",
   "execution_count": 6,
   "id": "4ac2f24f",
   "metadata": {},
   "outputs": [
    {
     "data": {
      "text/html": [
       "<div>\n",
       "<style scoped>\n",
       "    .dataframe tbody tr th:only-of-type {\n",
       "        vertical-align: middle;\n",
       "    }\n",
       "\n",
       "    .dataframe tbody tr th {\n",
       "        vertical-align: top;\n",
       "    }\n",
       "\n",
       "    .dataframe thead th {\n",
       "        text-align: right;\n",
       "    }\n",
       "</style>\n",
       "<table border=\"1\" class=\"dataframe\">\n",
       "  <thead>\n",
       "    <tr style=\"text-align: right;\">\n",
       "      <th></th>\n",
       "      <th>CRIM</th>\n",
       "      <th>ZN</th>\n",
       "      <th>INDUS</th>\n",
       "      <th>CHAS</th>\n",
       "      <th>NOX</th>\n",
       "      <th>RM</th>\n",
       "      <th>AGE</th>\n",
       "      <th>DIS</th>\n",
       "      <th>RAD</th>\n",
       "      <th>TAX</th>\n",
       "      <th>PTRATIO</th>\n",
       "      <th>B</th>\n",
       "      <th>LSTAT</th>\n",
       "      <th>MEDV</th>\n",
       "    </tr>\n",
       "  </thead>\n",
       "  <tbody>\n",
       "    <tr>\n",
       "      <th>count</th>\n",
       "      <td>511.000000</td>\n",
       "      <td>511.000000</td>\n",
       "      <td>511.000000</td>\n",
       "      <td>511.000000</td>\n",
       "      <td>511.000000</td>\n",
       "      <td>506.000000</td>\n",
       "      <td>511.000000</td>\n",
       "      <td>511.000000</td>\n",
       "      <td>511.000000</td>\n",
       "      <td>511.000000</td>\n",
       "      <td>511.000000</td>\n",
       "      <td>511.000000</td>\n",
       "      <td>511.000000</td>\n",
       "      <td>511.000000</td>\n",
       "    </tr>\n",
       "    <tr>\n",
       "      <th>mean</th>\n",
       "      <td>3.584139</td>\n",
       "      <td>11.252446</td>\n",
       "      <td>11.151096</td>\n",
       "      <td>0.068493</td>\n",
       "      <td>0.554757</td>\n",
       "      <td>6.287589</td>\n",
       "      <td>68.616243</td>\n",
       "      <td>3.783876</td>\n",
       "      <td>9.485323</td>\n",
       "      <td>407.440313</td>\n",
       "      <td>18.500000</td>\n",
       "      <td>356.600900</td>\n",
       "      <td>12.879550</td>\n",
       "      <td>22.682192</td>\n",
       "    </tr>\n",
       "    <tr>\n",
       "      <th>std</th>\n",
       "      <td>8.564433</td>\n",
       "      <td>23.234838</td>\n",
       "      <td>6.828175</td>\n",
       "      <td>0.252838</td>\n",
       "      <td>0.115310</td>\n",
       "      <td>0.703802</td>\n",
       "      <td>28.099130</td>\n",
       "      <td>2.098631</td>\n",
       "      <td>8.688469</td>\n",
       "      <td>167.903532</td>\n",
       "      <td>2.200348</td>\n",
       "      <td>90.882679</td>\n",
       "      <td>7.797416</td>\n",
       "      <td>9.484262</td>\n",
       "    </tr>\n",
       "    <tr>\n",
       "      <th>min</th>\n",
       "      <td>0.006320</td>\n",
       "      <td>0.000000</td>\n",
       "      <td>0.460000</td>\n",
       "      <td>0.000000</td>\n",
       "      <td>0.385000</td>\n",
       "      <td>3.561000</td>\n",
       "      <td>2.900000</td>\n",
       "      <td>1.129600</td>\n",
       "      <td>1.000000</td>\n",
       "      <td>187.000000</td>\n",
       "      <td>12.600000</td>\n",
       "      <td>0.320000</td>\n",
       "      <td>1.730000</td>\n",
       "      <td>5.000000</td>\n",
       "    </tr>\n",
       "    <tr>\n",
       "      <th>25%</th>\n",
       "      <td>0.082325</td>\n",
       "      <td>0.000000</td>\n",
       "      <td>5.190000</td>\n",
       "      <td>0.000000</td>\n",
       "      <td>0.449000</td>\n",
       "      <td>5.885500</td>\n",
       "      <td>45.050000</td>\n",
       "      <td>2.100350</td>\n",
       "      <td>4.000000</td>\n",
       "      <td>279.500000</td>\n",
       "      <td>17.400000</td>\n",
       "      <td>374.710000</td>\n",
       "      <td>7.065000</td>\n",
       "      <td>17.050000</td>\n",
       "    </tr>\n",
       "    <tr>\n",
       "      <th>50%</th>\n",
       "      <td>0.261690</td>\n",
       "      <td>0.000000</td>\n",
       "      <td>9.690000</td>\n",
       "      <td>0.000000</td>\n",
       "      <td>0.538000</td>\n",
       "      <td>6.209000</td>\n",
       "      <td>77.300000</td>\n",
       "      <td>3.152300</td>\n",
       "      <td>5.000000</td>\n",
       "      <td>330.000000</td>\n",
       "      <td>19.100000</td>\n",
       "      <td>391.340000</td>\n",
       "      <td>11.450000</td>\n",
       "      <td>21.200000</td>\n",
       "    </tr>\n",
       "    <tr>\n",
       "      <th>75%</th>\n",
       "      <td>3.621175</td>\n",
       "      <td>12.500000</td>\n",
       "      <td>18.100000</td>\n",
       "      <td>0.000000</td>\n",
       "      <td>0.624000</td>\n",
       "      <td>6.629750</td>\n",
       "      <td>94.050000</td>\n",
       "      <td>5.118000</td>\n",
       "      <td>24.000000</td>\n",
       "      <td>666.000000</td>\n",
       "      <td>20.200000</td>\n",
       "      <td>396.210000</td>\n",
       "      <td>17.105000</td>\n",
       "      <td>25.000000</td>\n",
       "    </tr>\n",
       "    <tr>\n",
       "      <th>max</th>\n",
       "      <td>88.976200</td>\n",
       "      <td>100.000000</td>\n",
       "      <td>27.740000</td>\n",
       "      <td>1.000000</td>\n",
       "      <td>0.871000</td>\n",
       "      <td>8.780000</td>\n",
       "      <td>100.000000</td>\n",
       "      <td>12.126500</td>\n",
       "      <td>24.000000</td>\n",
       "      <td>711.000000</td>\n",
       "      <td>23.000000</td>\n",
       "      <td>396.900000</td>\n",
       "      <td>76.000000</td>\n",
       "      <td>67.000000</td>\n",
       "    </tr>\n",
       "  </tbody>\n",
       "</table>\n",
       "</div>"
      ],
      "text/plain": [
       "             CRIM          ZN       INDUS        CHAS         NOX          RM  \\\n",
       "count  511.000000  511.000000  511.000000  511.000000  511.000000  506.000000   \n",
       "mean     3.584139   11.252446   11.151096    0.068493    0.554757    6.287589   \n",
       "std      8.564433   23.234838    6.828175    0.252838    0.115310    0.703802   \n",
       "min      0.006320    0.000000    0.460000    0.000000    0.385000    3.561000   \n",
       "25%      0.082325    0.000000    5.190000    0.000000    0.449000    5.885500   \n",
       "50%      0.261690    0.000000    9.690000    0.000000    0.538000    6.209000   \n",
       "75%      3.621175   12.500000   18.100000    0.000000    0.624000    6.629750   \n",
       "max     88.976200  100.000000   27.740000    1.000000    0.871000    8.780000   \n",
       "\n",
       "              AGE         DIS         RAD         TAX     PTRATIO           B  \\\n",
       "count  511.000000  511.000000  511.000000  511.000000  511.000000  511.000000   \n",
       "mean    68.616243    3.783876    9.485323  407.440313   18.500000  356.600900   \n",
       "std     28.099130    2.098631    8.688469  167.903532    2.200348   90.882679   \n",
       "min      2.900000    1.129600    1.000000  187.000000   12.600000    0.320000   \n",
       "25%     45.050000    2.100350    4.000000  279.500000   17.400000  374.710000   \n",
       "50%     77.300000    3.152300    5.000000  330.000000   19.100000  391.340000   \n",
       "75%     94.050000    5.118000   24.000000  666.000000   20.200000  396.210000   \n",
       "max    100.000000   12.126500   24.000000  711.000000   23.000000  396.900000   \n",
       "\n",
       "            LSTAT        MEDV  \n",
       "count  511.000000  511.000000  \n",
       "mean    12.879550   22.682192  \n",
       "std      7.797416    9.484262  \n",
       "min      1.730000    5.000000  \n",
       "25%      7.065000   17.050000  \n",
       "50%     11.450000   21.200000  \n",
       "75%     17.105000   25.000000  \n",
       "max     76.000000   67.000000  "
      ]
     },
     "execution_count": 6,
     "metadata": {},
     "output_type": "execute_result"
    }
   ],
   "source": [
    "data.describe()"
   ]
  },
  {
   "cell_type": "markdown",
   "id": "1a566be0",
   "metadata": {},
   "source": [
    "Next, we check for missing data in the dataset. Using the count method, we can identify column(s) with missing values."
   ]
  },
  {
   "cell_type": "code",
   "execution_count": 7,
   "id": "5a539976",
   "metadata": {},
   "outputs": [
    {
     "data": {
      "text/plain": [
       "CRIM       511\n",
       "ZN         511\n",
       "INDUS      511\n",
       "CHAS       511\n",
       "NOX        511\n",
       "RM         506\n",
       "AGE        511\n",
       "DIS        511\n",
       "RAD        511\n",
       "TAX        511\n",
       "PTRATIO    511\n",
       "B          511\n",
       "LSTAT      511\n",
       "MEDV       511\n",
       "dtype: int64"
      ]
     },
     "execution_count": 7,
     "metadata": {},
     "output_type": "execute_result"
    }
   ],
   "source": [
    "data.count()"
   ]
  },
  {
   "cell_type": "markdown",
   "id": "1f4c9201",
   "metadata": {},
   "source": [
    "A quick look at the values provided for the count for each column, we can see that the 'RM' column has 506 values. This indicates there are a total of 5 missing values from this column. It is common practice to replace the missing data with the mean, median, mode etc., of the column of interest. We can achieve this using the fillna method as follows."
   ]
  },
  {
   "cell_type": "code",
   "execution_count": null,
   "id": "2842d1ec",
   "metadata": {},
   "outputs": [],
   "source": []
  },
  {
   "cell_type": "code",
   "execution_count": 8,
   "id": "183927d5",
   "metadata": {},
   "outputs": [
    {
     "data": {
      "text/plain": [
       "511"
      ]
     },
     "execution_count": 8,
     "metadata": {},
     "output_type": "execute_result"
    }
   ],
   "source": [
    "data['RM']=data['RM'].fillna(data['RM'].mean())\n",
    "\n",
    "data['RM'].count()"
   ]
  },
  {
   "cell_type": "markdown",
   "id": "e592a33f",
   "metadata": {},
   "source": [
    "# Exploratory Data Analysis (EDA)"
   ]
  },
  {
   "cell_type": "markdown",
   "id": "0d4e096d",
   "metadata": {},
   "source": [
    "EDA is an essential step in any data analysis process. By visualizing the dataset through plots, graphs, and statistical summaries, we can gain preliminary insights into the relationships between variables. EDA helps identify correlations, patterns, and potential outliers, which guide our subsequent regression analysis."
   ]
  },
  {
   "cell_type": "code",
   "execution_count": null,
   "id": "a67bd4d4",
   "metadata": {},
   "outputs": [],
   "source": []
  },
  {
   "cell_type": "markdown",
   "id": "28c490fa",
   "metadata": {},
   "source": [
    "# Correlation Coefficient"
   ]
  },
  {
   "cell_type": "markdown",
   "id": "65db4032",
   "metadata": {},
   "source": [
    "The correlation coefficient is a statistical measure that quantifies the strength and direction of the relationship between two variables. It is denoted by the symbol \"r\" and takes values between -1 and +1.\n",
    "\n",
    "The correlation coefficient measures the degree to which the variables move together or vary inversely. A positive correlation coefficient indicates a direct or positive relationship, meaning that as one variable increases, the other tends to increase as well. Conversely, a negative correlation coefficient represents an inverse or negative relationship, where as one variable increases, the other tends to decrease.\n",
    "\n",
    "The value of the correlation coefficient ranges from -1 to +1. A correlation coefficient of +1 represents a perfect positive correlation, indicating that the variables have a strong linear relationship and move in perfect harmony. A correlation coefficient of -1 represents a perfect negative correlation, indicating that the variables have a strong inverse relationship and move in opposite directions. A correlation coefficient of 0 suggests no linear relationship between the variables."
   ]
  },
  {
   "cell_type": "markdown",
   "id": "02492bf1",
   "metadata": {},
   "source": [
    "Let us find the correlation between Median value of owner-occupied homes in $1000's and all other features in the dataset."
   ]
  },
  {
   "cell_type": "code",
   "execution_count": 9,
   "id": "3c9464e2",
   "metadata": {},
   "outputs": [
    {
     "data": {
      "text/plain": [
       "CRIM      -0.380072\n",
       "ZN         0.339767\n",
       "INDUS     -0.463269\n",
       "CHAS       0.164782\n",
       "NOX       -0.411486\n",
       "RM         0.666954\n",
       "AGE       -0.368203\n",
       "DIS        0.233469\n",
       "RAD       -0.379016\n",
       "TAX       -0.459274\n",
       "PTRATIO   -0.447464\n",
       "B          0.317941\n",
       "LSTAT     -0.562960\n",
       "MEDV       1.000000\n",
       "Name: MEDV, dtype: float64"
      ]
     },
     "execution_count": 9,
     "metadata": {},
     "output_type": "execute_result"
    }
   ],
   "source": [
    "#Correlations of features with target variable\n",
    "correlations=data.corr()\n",
    "correlations['MEDV']"
   ]
  },
  {
   "cell_type": "markdown",
   "id": "4e3cb638",
   "metadata": {},
   "source": [
    "Let us remove features that have negative correlation with 'MEDV'"
   ]
  },
  {
   "cell_type": "code",
   "execution_count": 10,
   "id": "33d19137",
   "metadata": {},
   "outputs": [
    {
     "data": {
      "text/plain": [
       "CRIM      -0.380072\n",
       "INDUS     -0.463269\n",
       "NOX       -0.411486\n",
       "AGE       -0.368203\n",
       "RAD       -0.379016\n",
       "TAX       -0.459274\n",
       "PTRATIO   -0.447464\n",
       "LSTAT     -0.562960\n",
       "Name: MEDV, dtype: float64"
      ]
     },
     "execution_count": 10,
     "metadata": {},
     "output_type": "execute_result"
    }
   ],
   "source": [
    "#remove features with negative correlation\n",
    "cor_target=correlations['MEDV']\n",
    "\n",
    "removed_features = cor_target[cor_target<0]\n",
    "removed_features"
   ]
  },
  {
   "cell_type": "markdown",
   "id": "612cc545",
   "metadata": {},
   "source": [
    "A quick look at the positive correlations show that the feature with the highest correlation is 'RM'. "
   ]
  },
  {
   "cell_type": "code",
   "execution_count": 21,
   "id": "97113b45",
   "metadata": {},
   "outputs": [
    {
     "data": {
      "text/plain": [
       "Text(0.5, 1.0, 'Scatter Diagram of RM vs MEDV')"
      ]
     },
     "execution_count": 21,
     "metadata": {},
     "output_type": "execute_result"
    },
    {
     "data": {
      "image/png": "[encoded data removed]",
      "text/plain": [
       "<Figure size 800x800 with 1 Axes>"
      ]
     },
     "metadata": {},
     "output_type": "display_data"
    }
   ],
   "source": [
    "import matplotlib.pyplot as plt\n",
    "%matplotlib inline\n",
    "\n",
    "fig_1=plt.figure(figsize=(8,8))\n",
    "plt.scatter(data['RM'], data['MEDV'])\n",
    "plt.title('Scatter Diagram of RM vs MEDV')"
   ]
  },
  {
   "cell_type": "markdown",
   "id": "dcbf5d74",
   "metadata": {},
   "source": [
    "Drop the features with negative correlation from the dataset"
   ]
  },
  {
   "cell_type": "code",
   "execution_count": 11,
   "id": "83065247",
   "metadata": {},
   "outputs": [],
   "source": [
    "data=data.drop(['CRIM','INDUS','NOX','AGE', 'RAD', 'TAX', 'PTRATIO', 'LSTAT'], axis=1)"
   ]
  },
  {
   "cell_type": "markdown",
   "id": "95c9a09a",
   "metadata": {},
   "source": [
    "# Pearson's Correlation Matrix"
   ]
  },
  {
   "cell_type": "markdown",
   "id": "7df0d345",
   "metadata": {},
   "source": [
    "Pearson's correlation matrix is a mathematical tool used to measure the linear relationship between pairs of variables in a dataset. It is named after Karl Pearson, who developed the correlation coefficient.\n",
    "\n",
    "A correlation matrix is a table that displays the correlation coefficients between all possible pairs of variables in a dataset. It is a square matrix, where each row and column represent a different variable. The value in each cell of the matrix represents the correlation coefficient between the variables corresponding to the row and column.\n",
    "\n",
    "The correlation matrix is useful for understanding the relationships between variables and identifying patterns or dependencies in the data. It can help in tasks such as feature selection, identifying high correlation between predictor variables, and exploring associations between variables."
   ]
  },
  {
   "cell_type": "code",
   "execution_count": 22,
   "id": "57990f69",
   "metadata": {},
   "outputs": [
    {
     "data": {
      "text/plain": [
       "Text(0.5, 1.0, 'Pearson Correlation Matrix')"
      ]
     },
     "execution_count": 22,
     "metadata": {},
     "output_type": "execute_result"
    },
    {
     "data": {
      "image/png": "[encoded data removed]",
      "text/plain": [
       "<Figure size 800x800 with 2 Axes>"
      ]
     },
     "metadata": {},
     "output_type": "display_data"
    }
   ],
   "source": [
    "#plot Pearson correlation matrix\n",
    "\n",
    "import seaborn as sns\n",
    "\n",
    "fig_2=plt.figure(figsize=(8,8))\n",
    "new_correlations=data.corr()\n",
    "sns.heatmap(new_correlations, annot=True, cmap='Greens', annot_kws={'size':8})\n",
    "plt.title('Pearson Correlation Matrix')\n"
   ]
  },
  {
   "cell_type": "markdown",
   "id": "3886f85e",
   "metadata": {},
   "source": [
    "# Regression Modeling"
   ]
  },
  {
   "cell_type": "markdown",
   "id": "70eb0b77",
   "metadata": {},
   "source": [
    "Once the data is prepared, we can construct our regression model. By selecting relevant independent variables that are likely to influence property prices, we can estimate their impact through regression coefficients. The model will help us understand the relationship between these variables and the target variable in a quantifiable manner."
   ]
  },
  {
   "cell_type": "code",
   "execution_count": 23,
   "id": "3d74647c",
   "metadata": {},
   "outputs": [],
   "source": [
    "from sklearn.model_selection import train_test_split\n",
    "\n",
    "X = data.drop(['ZN', 'CHAS', 'DIS', 'B', 'MEDV'], axis=1)\n",
    "y = data['MEDV']\n",
    "\n",
    "X_train, X_test, y_train, y_test = train_test_split(X, y, test_size=0.3, random_state=1)"
   ]
  },
  {
   "cell_type": "code",
   "execution_count": null,
   "id": "31b542a4",
   "metadata": {},
   "outputs": [],
   "source": []
  },
  {
   "cell_type": "code",
   "execution_count": 24,
   "id": "34494f27",
   "metadata": {},
   "outputs": [
    {
     "data": {
      "text/html": [
       "<style>#sk-container-id-2 {color: black;background-color: white;}#sk-container-id-2 pre{padding: 0;}#sk-container-id-2 div.sk-toggleable {background-color: white;}#sk-container-id-2 label.sk-toggleable__label {cursor: pointer;display: block;width: 100%;margin-bottom: 0;padding: 0.3em;box-sizing: border-box;text-align: center;}#sk-container-id-2 label.sk-toggleable__label-arrow:before {content: \"▸\";float: left;margin-right: 0.25em;color: #696969;}#sk-container-id-2 label.sk-toggleable__label-arrow:hover:before {color: black;}#sk-container-id-2 div.sk-estimator:hover label.sk-toggleable__label-arrow:before {color: black;}#sk-container-id-2 div.sk-toggleable__content {max-height: 0;max-width: 0;overflow: hidden;text-align: left;background-color: #f0f8ff;}#sk-container-id-2 div.sk-toggleable__content pre {margin: 0.2em;color: black;border-radius: 0.25em;background-color: #f0f8ff;}#sk-container-id-2 input.sk-toggleable__control:checked~div.sk-toggleable__content {max-height: 200px;max-width: 100%;overflow: auto;}#sk-container-id-2 input.sk-toggleable__control:checked~label.sk-toggleable__label-arrow:before {content: \"▾\";}#sk-container-id-2 div.sk-estimator input.sk-toggleable__control:checked~label.sk-toggleable__label {background-color: #d4ebff;}#sk-container-id-2 div.sk-label input.sk-toggleable__control:checked~label.sk-toggleable__label {background-color: #d4ebff;}#sk-container-id-2 input.sk-hidden--visually {border: 0;clip: rect(1px 1px 1px 1px);clip: rect(1px, 1px, 1px, 1px);height: 1px;margin: -1px;overflow: hidden;padding: 0;position: absolute;width: 1px;}#sk-container-id-2 div.sk-estimator {font-family: monospace;background-color: #f0f8ff;border: 1px dotted black;border-radius: 0.25em;box-sizing: border-box;margin-bottom: 0.5em;}#sk-container-id-2 div.sk-estimator:hover {background-color: #d4ebff;}#sk-container-id-2 div.sk-parallel-item::after {content: \"\";width: 100%;border-bottom: 1px solid gray;flex-grow: 1;}#sk-container-id-2 div.sk-label:hover label.sk-toggleable__label {background-color: #d4ebff;}#sk-container-id-2 div.sk-serial::before {content: \"\";position: absolute;border-left: 1px solid gray;box-sizing: border-box;top: 0;bottom: 0;left: 50%;z-index: 0;}#sk-container-id-2 div.sk-serial {display: flex;flex-direction: column;align-items: center;background-color: white;padding-right: 0.2em;padding-left: 0.2em;position: relative;}#sk-container-id-2 div.sk-item {position: relative;z-index: 1;}#sk-container-id-2 div.sk-parallel {display: flex;align-items: stretch;justify-content: center;background-color: white;position: relative;}#sk-container-id-2 div.sk-item::before, #sk-container-id-2 div.sk-parallel-item::before {content: \"\";position: absolute;border-left: 1px solid gray;box-sizing: border-box;top: 0;bottom: 0;left: 50%;z-index: -1;}#sk-container-id-2 div.sk-parallel-item {display: flex;flex-direction: column;z-index: 1;position: relative;background-color: white;}#sk-container-id-2 div.sk-parallel-item:first-child::after {align-self: flex-end;width: 50%;}#sk-container-id-2 div.sk-parallel-item:last-child::after {align-self: flex-start;width: 50%;}#sk-container-id-2 div.sk-parallel-item:only-child::after {width: 0;}#sk-container-id-2 div.sk-dashed-wrapped {border: 1px dashed gray;margin: 0 0.4em 0.5em 0.4em;box-sizing: border-box;padding-bottom: 0.4em;background-color: white;}#sk-container-id-2 div.sk-label label {font-family: monospace;font-weight: bold;display: inline-block;line-height: 1.2em;}#sk-container-id-2 div.sk-label-container {text-align: center;}#sk-container-id-2 div.sk-container {/* jupyter's `normalize.less` sets `[hidden] { display: none; }` but bootstrap.min.css set `[hidden] { display: none !important; }` so we also need the `!important` here to be able to override the default hidden behavior on the sphinx rendered scikit-learn.org. See: https://github.com/scikit-learn/scikit-learn/issues/21755 */display: inline-block !important;position: relative;}#sk-container-id-2 div.sk-text-repr-fallback {display: none;}</style><div id=\"sk-container-id-2\" class=\"sk-top-container\"><div class=\"sk-text-repr-fallback\"><pre>LinearRegression()</pre><b>In a Jupyter environment, please rerun this cell to show the HTML representation or trust the notebook. <br />On GitHub, the HTML representation is unable to render, please try loading this page with nbviewer.org.</b></div><div class=\"sk-container\" hidden><div class=\"sk-item\"><div class=\"sk-estimator sk-toggleable\"><input class=\"sk-toggleable__control sk-hidden--visually\" id=\"sk-estimator-id-2\" type=\"checkbox\" checked><label for=\"sk-estimator-id-2\" class=\"sk-toggleable__label sk-toggleable__label-arrow\">LinearRegression</label><div class=\"sk-toggleable__content\"><pre>LinearRegression()</pre></div></div></div></div></div>"
      ],
      "text/plain": [
       "LinearRegression()"
      ]
     },
     "execution_count": 24,
     "metadata": {},
     "output_type": "execute_result"
    }
   ],
   "source": [
    "from sklearn.linear_model import LinearRegression\n",
    "\n",
    "model=LinearRegression()\n",
    "model.fit(X_train, y_train)\n"
   ]
  },
  {
   "cell_type": "code",
   "execution_count": 25,
   "id": "e79af299",
   "metadata": {},
   "outputs": [],
   "source": [
    "y_pred=model.predict(X_test)"
   ]
  },
  {
   "cell_type": "code",
   "execution_count": null,
   "id": "9c77325a",
   "metadata": {},
   "outputs": [],
   "source": []
  },
  {
   "cell_type": "code",
   "execution_count": 30,
   "id": "2a17eea5",
   "metadata": {},
   "outputs": [
    {
     "data": {
      "text/plain": [
       "<matplotlib.legend.Legend at 0x1dd29d0e950>"
      ]
     },
     "execution_count": 30,
     "metadata": {},
     "output_type": "execute_result"
    },
    {
     "data": {
      "image/png": "[encoded data removed]",
      "text/plain": [
       "<Figure size 800x800 with 1 Axes>"
      ]
     },
     "metadata": {},
     "output_type": "display_data"
    }
   ],
   "source": [
    "fig_1=plt.figure(figsize=(8,8))\n",
    "plt.scatter(X_test, y_test, color='blue',label='y_test')\n",
    "plt.plot(X_test, y_pred, color='red', label='y_pred')\n",
    "plt.xlabel('RM')\n",
    "plt.ylabel('MEDV')\n",
    "plt.legend(loc=\"upper left\")\n"
   ]
  },
  {
   "cell_type": "markdown",
   "id": "b6cbb69e",
   "metadata": {},
   "source": [
    "# Evaluating Model Performance"
   ]
  },
  {
   "cell_type": "markdown",
   "id": "e34860ff",
   "metadata": {},
   "source": [
    "The skill or performance of a regression model must be reported as an error in those predictions. Errpr summarizes how close predictions were to their expected values.\n",
    "\n",
    "There are three error metrics that are commonly used for evaluating and reporting the performance of a regression model; they are:\n",
    "\n",
    "Mean Squared Error (MSE)\n",
    "Root Mean Squared Error (RMSE)\n",
    "Mean Absolute Error (MAE)"
   ]
  },
  {
   "cell_type": "markdown",
   "id": "9982201b",
   "metadata": {},
   "source": [
    "# Mean Squared Error"
   ]
  },
  {
   "cell_type": "markdown",
   "id": "554c4ce5",
   "metadata": {},
   "source": [
    "Mean squared error (MSE) is a commonly used metric to measure the average squared difference between the predicted and actual values in a regression problem. It is a way to assess the accuracy of a regression model by quantifying the average of the squared residuals (the differences between predicted and actual values).\n",
    "\n",
    "To calculate the MSE, you take the squared difference between each predicted value and its corresponding actual value, sum them up, and divide by the total number of data points.\n",
    "\n",
    "MSE is useful because it gives more weight to larger errors due to squaring the differences. This property makes it particularly sensitive to outliers. Additionally, MSE is a non-negative value, with a lower value indicating a better fit of the model to the data."
   ]
  },
  {
   "cell_type": "code",
   "execution_count": 35,
   "id": "0550ed2c",
   "metadata": {},
   "outputs": [
    {
     "data": {
      "text/plain": [
       "42.41029423467071"
      ]
     },
     "execution_count": 35,
     "metadata": {},
     "output_type": "execute_result"
    }
   ],
   "source": [
    "\n",
    "from sklearn.metrics import mean_squared_error\n",
    "\n",
    "mean_squared_error(y_test, y_pred)"
   ]
  },
  {
   "cell_type": "markdown",
   "id": "15b73fae",
   "metadata": {},
   "source": [
    "# Root Mean Squared Error"
   ]
  },
  {
   "cell_type": "markdown",
   "id": "4def092d",
   "metadata": {},
   "source": [
    "Root mean squared error (RMSE) is a commonly used metric to measure the average magnitude of the residuals or errors in a regression problem. It is derived from the mean squared error (MSE) by taking the square root of the MSE. RMSE is often preferred over MSE because it is in the same unit as the dependent variable, making it more interpretable.\n",
    "\n",
    "To calculate the RMSE, you first calculate the MSE using the formula for MSE and then take the square root of the MSE.\n",
    "\n",
    "RMSE provides a measure of the average magnitude of the prediction errors in the original units of the dependent variable. It is particularly useful when you want to understand the typical size of the errors made by a regression model. Like MSE, a lower value of RMSE indicates a better fit of the model to the data."
   ]
  },
  {
   "cell_type": "code",
   "execution_count": 37,
   "id": "9af6c28b",
   "metadata": {},
   "outputs": [
    {
     "data": {
      "text/plain": [
       "6.512318652728129"
      ]
     },
     "execution_count": 37,
     "metadata": {},
     "output_type": "execute_result"
    }
   ],
   "source": [
    "#root mean squared error\n",
    "mean_squared_error(y_test, y_pred, squared=False)"
   ]
  },
  {
   "cell_type": "markdown",
   "id": "d473cd37",
   "metadata": {},
   "source": [
    "# Mean Absolute Error"
   ]
  },
  {
   "cell_type": "markdown",
   "id": "daf5acd2",
   "metadata": {},
   "source": [
    "Mean Absolute Error (MAE) is a metric used to measure the average absolute difference between the predicted and actual values in a regression problem. Unlike mean squared error (MSE) or root mean squared error (RMSE), MAE focuses on the absolute values of the errors rather than squaring them.\n",
    "\n",
    "To calculate the MAE, you take the absolute difference between each predicted value and its corresponding actual value, sum them up, and divide by the total number of data points.\n",
    "\n",
    "MAE provides a measure of the average magnitude of the errors made by a regression model. It is useful when you want to understand the typical size of the errors in the original units of the dependent variable. MAE is less sensitive to outliers compared to MSE or RMSE because it does not involve squaring the errors."
   ]
  },
  {
   "cell_type": "code",
   "execution_count": 40,
   "id": "2f28fefe",
   "metadata": {},
   "outputs": [
    {
     "data": {
      "text/plain": [
       "4.264390531131601"
      ]
     },
     "execution_count": 40,
     "metadata": {},
     "output_type": "execute_result"
    }
   ],
   "source": [
    "from sklearn.metrics import mean_absolute_error\n",
    "mean_absolute_error(y_test, y_pred)"
   ]
  },
  {
   "cell_type": "code",
   "execution_count": null,
   "id": "5ecf80b7",
   "metadata": {},
   "outputs": [],
   "source": []
  }
 ],
 "metadata": {
  "kernelspec": {
   "display_name": "Python 3 (ipykernel)",
   "language": "python",
   "name": "python3"
  },
  "language_info": {
   "codemirror_mode": {
    "name": "ipython",
    "version": 3
   },
   "file_extension": ".py",
   "mimetype": "text/x-python",
   "name": "python",
   "nbconvert_exporter": "python",
   "pygments_lexer": "ipython3",
   "version": "3.10.9"
  }
 },
 "nbformat": 4,
 "nbformat_minor": 5
}
